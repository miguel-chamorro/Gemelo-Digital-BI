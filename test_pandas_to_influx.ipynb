{
 "cells": [
  {
   "cell_type": "code",
   "execution_count": 1,
   "id": "2b3a48a0",
   "metadata": {},
   "outputs": [],
   "source": [
    "import pandas as pd\n",
    "import dask.dataframe as dd\n",
    "import influxdb_client\n",
    "from influxdb_client import InfluxDBClient, Point, WritePrecision\n",
    "from influxdb_client.client.write_api import SYNCHRONOUS\n",
    "from datetime import datetime"
   ]
  },
  {
   "cell_type": "code",
   "execution_count": 2,
   "id": "bb122b10",
   "metadata": {},
   "outputs": [],
   "source": [
    "#cambiar por el bucket correspondiente\n",
    "bucket = \"trafico\"\n",
    "#cambiar por organizacion correspondiente\n",
    "org = \"Gemelo_BI\"\n",
    "#cambiar por token correspondiente\n",
    "token = \"vjcN-j4WSLz0cHaEAKh3KRxp_MO_fofkru0h2TiQTPKSxAlboTiNNcYZg-GG8_2whhdhKWZtHoQWKMCRv6GqIQ==\"\n",
    "#cambiar por URL del servidor\n",
    "url=\"http://localhost:8086\"\n",
    "client = InfluxDBClient(url=\"http://localhost:8086\", token=token)\n",
    "write_api = client.write_api()"
   ]
  },
  {
   "cell_type": "code",
   "execution_count": 3,
   "id": "9e2ab02b",
   "metadata": {},
   "outputs": [
    {
     "name": "stdout",
     "output_type": "stream",
     "text": [
      "0    01/01/2022T1:30:00Z\n",
      "Name: _time, dtype: object\n",
      "0   2022-01-01 01:30:00+00:00\n",
      "Name: _time, dtype: datetime64[ns, UTC]\n",
      "0   2022-01-01 01:30:00+00:00\n",
      "Name: _time, dtype: datetime64[ns, UTC]\n"
     ]
    }
   ],
   "source": [
    "df =pd.read_csv('accicentes_prueba.csv',header = 0,delimiter=';')\n",
    "\n",
    "#print(df.head(1))\n",
    "\n",
    "\n",
    "\n",
    "df['_time'] = df['fecha']+\"T\"+df['hora']+\"Z\"\n",
    "print(df['_time'].head(1))\n",
    "\n",
    "df['_time']=pd.to_datetime(df['_time'])\n",
    "print(df['_time'].head(1))\n",
    "\n",
    "\n",
    "df = df.replace(' ', '_', regex=True)\n",
    "print(df['_time'].head(1))\n",
    "\n"
   ]
  },
  {
   "cell_type": "code",
   "execution_count": 4,
   "id": "cce9b5b2",
   "metadata": {},
   "outputs": [
    {
     "name": "stdout",
     "output_type": "stream",
     "text": [
      "['num_expediente', 'localizacion', 'numero', 'cod_distrito', 'distrito', 'tipo_accidente', 'estado_meteorológico', 'tipo_vehiculo', 'tipo_persona', 'rango_edad', 'sexo', 'cod_lesividad', 'lesividad', 'coordenada_x_utm', 'coordenada_y_utm', 'positiva_alcohol', 'positiva_droga']\n"
     ]
    }
   ],
   "source": [
    "\n",
    "df=df.drop([\"fecha\",\"hora\"],axis=1)\n",
    "df.set_index(df[\"_time\"])\n",
    "columnas = list(df.drop([\"_time\"],axis=1).columns)\n",
    "print(columnas)\n",
    "\n"
   ]
  },
  {
   "cell_type": "markdown",
   "id": "9fb1fd73",
   "metadata": {},
   "source": [
    "write_api = client.write_api()\n",
    "write_api.write(bucket=bucket, org=org, record=df,data_frame_measurement_name=\"_measurement\",data_frame_tag_columns=columnas)"
   ]
  },
  {
   "cell_type": "code",
   "execution_count": 5,
   "id": "6b2d298b",
   "metadata": {},
   "outputs": [],
   "source": [
    "\n",
    "write_api.write(bucket=bucket, record=df,data_frame_measurement_name=\"Accidente\",data_frame_tag_columns=columnas,org=org)"
   ]
  },
  {
   "cell_type": "code",
   "execution_count": 6,
   "id": "342b1d3f",
   "metadata": {},
   "outputs": [],
   "source": [
    "query = f'from(bucket: \"trafico\") |> range(start: 1900-01-01, stop: 2023-01-02) |> filter(fn: (r) => r._measurement == \"Accidente\")'\n",
    "result = client.query_api().query(query, org=org)\n",
    "results = []"
   ]
  },
  {
   "cell_type": "code",
   "execution_count": 10,
   "id": "90efc2b9",
   "metadata": {},
   "outputs": [
    {
     "name": "stdout",
     "output_type": "stream",
     "text": [
      "[]\n",
      "[]\n"
     ]
    }
   ],
   "source": [
    "for table in result:\n",
    "    for record in table.records:\n",
    "        results.append((record.get_field(), record.get_value()))\n",
    "        print(record.get_field()+\": \"+str(record.get_value()))\n",
    "    print(table.records)\n",
    "print(results)\n"
   ]
  },
  {
   "cell_type": "markdown",
   "id": "6ea00bee",
   "metadata": {},
   "source": [
    "query = f'from (bucket: \"trafico\") |> range(start: -10000000000000000m, stop: now())'\n",
    "client = InfluxDBClient(url, token, org)\n",
    "traffic = client.query_api().query_data_frame()\n",
    "display(traffic.head())\n"
   ]
  }
 ],
 "metadata": {
  "kernelspec": {
   "display_name": "Python 3 (ipykernel)",
   "language": "python",
   "name": "python3"
  },
  "language_info": {
   "codemirror_mode": {
    "name": "ipython",
    "version": 3
   },
   "file_extension": ".py",
   "mimetype": "text/x-python",
   "name": "python",
   "nbconvert_exporter": "python",
   "pygments_lexer": "ipython3",
   "version": "3.7.13"
  }
 },
 "nbformat": 4,
 "nbformat_minor": 5
}
